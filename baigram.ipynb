{
 "cells": [
  {
   "cell_type": "code",
   "execution_count": 1,
   "id": "5d46f88c",
   "metadata": {},
   "outputs": [
    {
     "name": "stdout",
     "output_type": "stream",
     "text": [
      "cpu\n"
     ]
    }
   ],
   "source": [
    "# import libraries\n",
    "import torch\n",
    "import torch.nn as nn\n",
    "from torch.nn import functional as F\n",
    "device = 'cuda' if torch.cuda.is_available() else 'cpu'\n",
    "print(device)\n",
    "block_size = 8\n",
    "batch_size = 4\n",
    "max_iters = 1000\n",
    "learning_rate = 3e-4\n",
    "eval_iters = 250"
   ]
  },
  {
   "cell_type": "code",
   "execution_count": 2,
   "id": "1da8c7fe",
   "metadata": {},
   "outputs": [
    {
     "data": {
      "text/plain": [
       "81"
      ]
     },
     "execution_count": 2,
     "metadata": {},
     "output_type": "execute_result"
    }
   ],
   "source": [
    "# import txt file\n",
    "with open(\"wizard_of_oz.txt\", \"r\", encoding=\"utf-8\") as f:\n",
    "    text = f.read()\n",
    "chars = sorted(set(text))\n",
    "vocab_size = len(chars)\n",
    "vocab_size"
   ]
  },
  {
   "cell_type": "code",
   "execution_count": 3,
   "id": "67d30cc6",
   "metadata": {},
   "outputs": [
    {
     "data": {
      "text/plain": [
       "'hello'"
      ]
     },
     "execution_count": 3,
     "metadata": {},
     "output_type": "execute_result"
    }
   ],
   "source": [
    "# create encoder and decoder\n",
    "string_to_int = {ch:i for i, ch in enumerate(chars)}\n",
    "int_to_string = {i:ch for i, ch in enumerate(chars)}\n",
    "encode = lambda s: [string_to_int[c] for c in s]\n",
    "decode = lambda l:\"\".join([int_to_string[i] for i in l])\n",
    "encoded_hello = encode(\"hello\")\n",
    "decoded_hello = decode(encoded_hello)\n",
    "decoded_hello\n"
   ]
  },
  {
   "cell_type": "code",
   "execution_count": 4,
   "id": "5dc01b62",
   "metadata": {},
   "outputs": [
    {
     "data": {
      "text/plain": [
       "tensor([80,  1,  1, 28, 39, 42, 39, 44, 32, 49,  1, 25, 38, 28,  1, 44, 32, 29,\n",
       "         1, 47, 33, 50, 25, 42, 28,  1, 33, 38,  1, 39, 50,  0,  0,  1,  1, 26,\n",
       "        49,  0,  0,  1,  1, 36, 11,  1, 30, 42, 25, 38, 35,  1, 26, 25, 45, 37,\n",
       "         0,  0,  1,  1, 25, 45, 44, 32, 39, 42,  1, 39, 30,  1, 44, 32, 29,  1,\n",
       "        47, 33, 50, 25, 42, 28,  1, 39, 30,  1, 39, 50,  9,  1, 44, 32, 29,  1,\n",
       "        36, 25, 38, 28,  1, 39, 30,  1, 39, 50,  9,  1, 39, 50, 37, 25,  1, 39,\n",
       "        30,  1, 39, 50,  9,  1, 29, 44, 27, 11,  0,  0,  1,  1, 33, 36, 36, 45,\n",
       "        43, 44, 42, 25, 44, 29, 28,  1, 26, 49,  1, 34, 39, 32, 38,  1, 42, 11,\n",
       "         1, 38, 29, 33, 36, 36,  0,  0,  1,  1, 26, 39, 39, 35, 43,  1, 39, 30,\n",
       "         1, 47, 39, 38, 28, 29, 42,  1, 47, 33, 36, 36, 33, 25, 37,  1, 37, 39,\n",
       "        42, 42, 39, 47,  1,  4,  1, 27, 39, 11,  9,  1, 33, 38, 27, 11,  1, 38,\n",
       "        29, 47])"
      ]
     },
     "execution_count": 4,
     "metadata": {},
     "output_type": "execute_result"
    }
   ],
   "source": [
    "# print first 200 rows\n",
    "data = torch.tensor(encode(text), dtype=torch.long)\n",
    "data[:200]"
   ]
  },
  {
   "cell_type": "code",
   "execution_count": 6,
   "id": "fcb69de4",
   "metadata": {},
   "outputs": [
    {
     "name": "stdout",
     "output_type": "stream",
     "text": [
      "inputs:\n",
      "torch.Size([4, 8])\n",
      "tensor([[62, 73, 73, 65, 58,  1, 60, 62],\n",
      "        [72,  1, 57, 62, 57, 11,  1, 43],\n",
      "        [58, 59, 68, 71, 58,  1, 61, 58],\n",
      "        [ 1, 54, 56, 73, 74, 54, 65, 65]])\n",
      "targets:\n",
      "tensor([[73, 73, 65, 58,  1, 60, 62, 71],\n",
      "        [ 1, 57, 62, 57, 11,  1, 43, 68],\n",
      "        [59, 68, 71, 58,  1, 61, 58,  1],\n",
      "        [54, 56, 73, 74, 54, 65, 65, 78]])\n"
     ]
    }
   ],
   "source": [
    "# split data into training and validation sets \n",
    "n = int(0.8*len(data))\n",
    "train_data = data[:n]\n",
    "val_data = data[n:]\n",
    "\n",
    "# function to create bacthes\n",
    "def get_batch(split):\n",
    "    data = train_data if split == 'train' else val_data\n",
    "    ix = torch.randint(len(data) - block_size, (batch_size,))\n",
    "    x = torch.stack([data[i:i+block_size] for i in ix])\n",
    "    y = torch.stack([data[i+1:i+block_size+1] for i in ix])\n",
    "    x, y = x.to(device), y.to(device)\n",
    "    return x, y\n",
    "\n",
    "x, y = get_batch('train')\n",
    "print('inputs:')\n",
    "print(x.shape)\n",
    "print(x)\n",
    "print('targets:')\n",
    "print(y)\n"
   ]
  },
  {
   "cell_type": "code",
   "execution_count": 7,
   "id": "1d03df65",
   "metadata": {},
   "outputs": [],
   "source": [
    "# loss calculator\n",
    "@torch.no_grad()\n",
    "def estimate_loss():\n",
    "    out = {}\n",
    "    model.eval()\n",
    "    for split in ['train', 'val']:\n",
    "        losses = torch.zeros(eval_iters)\n",
    "        for k in range(eval_iters):\n",
    "            X, Y = get_batch(split)\n",
    "            logits, loss = model(X, Y)\n",
    "            losses[k] = loss.item()\n",
    "        out[split] = losses.mean()\n",
    "    model.train()\n",
    "    return out"
   ]
  },
  {
   "cell_type": "code",
   "execution_count": 8,
   "id": "88e9e45b",
   "metadata": {},
   "outputs": [
    {
     "name": "stdout",
     "output_type": "stream",
     "text": [
      "\n",
      ".4&XfZB*Dsftri)J3G 8,HaUgvaJkx T&tGMyR2tro&GfWy(WpWs\n",
      "!?HMEr?j IaqQeq[T28J4zD\"LM((6i:j9L!3.\n",
      "OW1EnqOQ],'9yt8km]1mp\"& *V35POdqZAPqkBvJn59GF]&﻿,Cqh3qlv&ie&B'u&rlh[xn.tG'\"N26oKgJUaq-HGoIvPb28RK\n",
      "cF&MP3dLi5PPw59ABAXtbGnVrSkpoJNn0eaAqple8 cUEu&??7 p26kjRRh:G\n",
      "lwHbcO31S﻿y(D.Z\n",
      "G u&C4B)tjBvU, '(xXu&]1Jfna_E!8JiF﻿z:D6;-J,Pb,[)tQ'sq6ZKaUIlBj[J9!O3yYTSi2&iXqvLXR9b﻿)g[V\"gu&\n",
      "X9Ve3Gx *)FSaNm\n",
      "-7guZN\n",
      "YtbcO.GH9KbmQkuTV[G!mJN&EH?ls?2o*ZMYybOFQys_OVp.\n",
      "6LX.0X\n",
      "cUIz?tM(F&\n",
      ".HRqinrS﻿N;pon\"OTW9(BQx8i59GS?sW[,6iL5]0A8Fo5*1JH\n"
     ]
    }
   ],
   "source": [
    "import torch.nn as nn\n",
    "import torch.nn.functional as F\n",
    "\n",
    "# biagram language model\n",
    "class BigramLanguageModel(nn.Module):\n",
    "    def __init__(self, vocab_size):\n",
    "        super().__init__()\n",
    "        self.token_embedding_table = nn.Embedding(vocab_size, vocab_size)\n",
    "        \n",
    "    def forward(self, index, targets=None):\n",
    "        logits = self.token_embedding_table(index)\n",
    "        \n",
    "        \n",
    "        if targets is None:\n",
    "            loss = None\n",
    "        else:\n",
    "            B, T, C = logits.shape #B=Batch_size, T=Timestamp or number of token in each sentance, c= vocab size also known as channel\n",
    "            logits = logits.view(B*T, C)\n",
    "            targets = targets.view(B*T)\n",
    "            loss = F.cross_entropy(logits, targets)\n",
    "        \n",
    "        return logits, loss\n",
    "    \n",
    "    def generate(self, index, max_new_tokens):\n",
    "        # index is (B, T) array of indices in the current context\n",
    "        for _ in range(max_new_tokens):\n",
    "            # get the predictions\n",
    "            logits, loss = self.forward(index)\n",
    "            # focus only on the last time step\n",
    "            logits = logits[:, -1, :] # becomes (B, C)\n",
    "            # apply softmax to get probabilities\n",
    "            probs = F.softmax(logits, dim=-1) # (B, C)\n",
    "            # sample from the distribution\n",
    "            index_next = torch.multinomial(probs, num_samples=1) # (B, 1)\n",
    "            # append sampled index to the running sequence\n",
    "            index = torch.cat((index, index_next), dim=1) # (B, T+1)\n",
    "        return index\n",
    "\n",
    "model = BigramLanguageModel(vocab_size)\n",
    "m = model.to(device)\n",
    "\n",
    "context = torch.zeros((1,1), dtype=torch.long, device=device)\n",
    "generated_chars = decode(m.generate(context, max_new_tokens=500)[0].tolist())\n",
    "print(generated_chars)\n",
    "\n",
    "# context = torch.randint(0, vocab_size, (1, 1))  # (B=1, T=1)\n",
    "\n",
    "\n",
    "# generated_chars = decode(m.generate(context, max_new_tokens=500)[0].tolist())\n",
    "# len(generated_chars)"
   ]
  },
  {
   "cell_type": "code",
   "execution_count": 9,
   "id": "04e7a737",
   "metadata": {},
   "outputs": [
    {
     "name": "stdout",
     "output_type": "stream",
     "text": [
      "step: 0, train loss: 4.890, val loss: 4.869\n",
      "step: 250, train loss: 4.828, val loss: 4.793\n",
      "step: 500, train loss: 4.764, val loss: 4.720\n",
      "step: 750, train loss: 4.713, val loss: 4.683\n",
      "4.563632965087891\n"
     ]
    }
   ],
   "source": [
    "# create a PyTorch optimizer\n",
    "optimizer = torch.optim.AdamW(model.parameters(), lr=learning_rate)\n",
    "\n",
    "for iter in range(max_iters):\n",
    "    if iter % eval_iters == 0:\n",
    "        losses = estimate_loss()\n",
    "        print(f\"step: {iter}, train loss: {losses['train']:.3f}, val loss: {losses['val']:.3f}\")\n",
    "\n",
    "    # sample a batch of data\n",
    "    xb, yb = get_batch('train')\n",
    "\n",
    "    # evaluate the loss\n",
    "    logits, loss = model.forward(xb, yb)\n",
    "    optimizer.zero_grad(set_to_none=True)\n",
    "    loss.backward()\n",
    "    optimizer.step()\n",
    "print(loss.item())"
   ]
  },
  {
   "cell_type": "code",
   "execution_count": 10,
   "id": "b63cd2cc",
   "metadata": {},
   "outputs": [
    {
     "name": "stdout",
     "output_type": "stream",
     "text": [
      "\n",
      "y1ZwJNlzUj'(*DmQ'DSzA?8y; vf3taQ'4\n",
      "cp28wx\n",
      "DC4txLGH7p5 F﻿((,e-LVkgo3tL_OH\n",
      "DX021mNN;FDr;(6-:mnJiD0,dB(O3g'k'zlM21.i'9LDT2YkO&QJ&T*AsI.\"m:K5K9'E?RSwZ *x 1xjR(7Kn?!yqR:Lo1wD,C&b5M\"3TSo1\n",
      "uQr)wivRDed) RF8VZ,xRB&r o1Jk'Q(4z[w6XWF﻿NWeJf\"OTJNfZoexr(65_1tN&ENSu?BAns3MEK]E9Ak!w\"wVPbG'04JkK9WRBHjKv)O?O1t6]cPd\n",
      "OWycU;G3zV(m0'AN9﻿NWELtbIwC;WQz c.h\n",
      "y1y(?V3SU*A7lM1WFJe\"OL\n",
      "*2&;J.\n",
      "31_AT[RBCKT*sWhCN7GgyrUZx2F﻿NF8[&DyIMbbXWpdI?s3E!U]v (ZVXguGkz7aC2V[MYn3gNW77 ct[WyS.WmkxY9GS.tvHbbiE:ex (ODLbsA;W5]!f?y_3W8irKKV3e:i6b\n"
     ]
    }
   ],
   "source": [
    "context = torch.zeros((1,1), dtype=torch.long, device=device)\n",
    "generated_chars = decode(m.generate(context, max_new_tokens=500)[0].tolist())\n",
    "print(generated_chars)"
   ]
  },
  {
   "cell_type": "code",
   "execution_count": 13,
   "id": "3af82623",
   "metadata": {},
   "outputs": [
    {
     "name": "stdout",
     "output_type": "stream",
     "text": [
      "4.394449154672439\n"
     ]
    }
   ],
   "source": [
    "import math\n",
    "print(math.log(81))  # ≈ 4.394\n"
   ]
  },
  {
   "cell_type": "markdown",
   "id": "95ee4675",
   "metadata": {},
   "source": [
    "model is almost predicting randomly"
   ]
  }
 ],
 "metadata": {
  "kernelspec": {
   "display_name": "Python 3",
   "language": "python",
   "name": "python3"
  },
  "language_info": {
   "codemirror_mode": {
    "name": "ipython",
    "version": 3
   },
   "file_extension": ".py",
   "mimetype": "text/x-python",
   "name": "python",
   "nbconvert_exporter": "python",
   "pygments_lexer": "ipython3",
   "version": "3.11.13"
  }
 },
 "nbformat": 4,
 "nbformat_minor": 5
}
